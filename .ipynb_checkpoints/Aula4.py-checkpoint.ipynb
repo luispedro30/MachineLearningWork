{
 "cells": [
  {
   "cell_type": "code",
   "execution_count": 1,
   "metadata": {},
   "outputs": [],
   "source": [
    "import pandas as pd\n",
    "import numpy as np\n",
    "from sklearn.linear_model import LogisticRegression\n",
    "from sklearn import metrics, datasets, preprocessing,model_selection\n",
    "import matplotlib.pyplot as plt\n",
    "import seaborn as sn\n",
    "import warnings \n",
    "warnings.filterwarnings(\"ignore\")"
   ]
  },
  {
   "cell_type": "code",
   "execution_count": 2,
   "metadata": {},
   "outputs": [
    {
     "ename": "FileNotFoundError",
     "evalue": "[Errno 2] No such file or directory: 'Grade_Set_1_Classification.csv'",
     "output_type": "error",
     "traceback": [
      "\u001b[1;31m---------------------------------------------------------------------------\u001b[0m",
      "\u001b[1;31mFileNotFoundError\u001b[0m                         Traceback (most recent call last)",
      "Input \u001b[1;32mIn [2]\u001b[0m, in \u001b[0;36m<cell line: 1>\u001b[1;34m()\u001b[0m\n\u001b[1;32m----> 1\u001b[0m df \u001b[38;5;241m=\u001b[39m \u001b[43mpd\u001b[49m\u001b[38;5;241;43m.\u001b[39;49m\u001b[43mread_csv\u001b[49m\u001b[43m(\u001b[49m\u001b[38;5;124;43m\"\u001b[39;49m\u001b[38;5;124;43mGrade_Set_1_Classification.csv\u001b[39;49m\u001b[38;5;124;43m\"\u001b[39;49m\u001b[43m)\u001b[49m\n\u001b[0;32m      3\u001b[0m independent_variables \u001b[38;5;241m=\u001b[39m [\u001b[38;5;124m'\u001b[39m\u001b[38;5;124mHours_Studied\u001b[39m\u001b[38;5;124m'\u001b[39m]\n\u001b[0;32m      4\u001b[0m dependent_variables \u001b[38;5;241m=\u001b[39m [\u001b[38;5;124m'\u001b[39m\u001b[38;5;124mResult\u001b[39m\u001b[38;5;124m'\u001b[39m]\n",
      "File \u001b[1;32mD:\\Anaconda\\lib\\site-packages\\pandas\\util\\_decorators.py:311\u001b[0m, in \u001b[0;36mdeprecate_nonkeyword_arguments.<locals>.decorate.<locals>.wrapper\u001b[1;34m(*args, **kwargs)\u001b[0m\n\u001b[0;32m    305\u001b[0m \u001b[38;5;28;01mif\u001b[39;00m \u001b[38;5;28mlen\u001b[39m(args) \u001b[38;5;241m>\u001b[39m num_allow_args:\n\u001b[0;32m    306\u001b[0m     warnings\u001b[38;5;241m.\u001b[39mwarn(\n\u001b[0;32m    307\u001b[0m         msg\u001b[38;5;241m.\u001b[39mformat(arguments\u001b[38;5;241m=\u001b[39marguments),\n\u001b[0;32m    308\u001b[0m         \u001b[38;5;167;01mFutureWarning\u001b[39;00m,\n\u001b[0;32m    309\u001b[0m         stacklevel\u001b[38;5;241m=\u001b[39mstacklevel,\n\u001b[0;32m    310\u001b[0m     )\n\u001b[1;32m--> 311\u001b[0m \u001b[38;5;28;01mreturn\u001b[39;00m func(\u001b[38;5;241m*\u001b[39margs, \u001b[38;5;241m*\u001b[39m\u001b[38;5;241m*\u001b[39mkwargs)\n",
      "File \u001b[1;32mD:\\Anaconda\\lib\\site-packages\\pandas\\io\\parsers\\readers.py:680\u001b[0m, in \u001b[0;36mread_csv\u001b[1;34m(filepath_or_buffer, sep, delimiter, header, names, index_col, usecols, squeeze, prefix, mangle_dupe_cols, dtype, engine, converters, true_values, false_values, skipinitialspace, skiprows, skipfooter, nrows, na_values, keep_default_na, na_filter, verbose, skip_blank_lines, parse_dates, infer_datetime_format, keep_date_col, date_parser, dayfirst, cache_dates, iterator, chunksize, compression, thousands, decimal, lineterminator, quotechar, quoting, doublequote, escapechar, comment, encoding, encoding_errors, dialect, error_bad_lines, warn_bad_lines, on_bad_lines, delim_whitespace, low_memory, memory_map, float_precision, storage_options)\u001b[0m\n\u001b[0;32m    665\u001b[0m kwds_defaults \u001b[38;5;241m=\u001b[39m _refine_defaults_read(\n\u001b[0;32m    666\u001b[0m     dialect,\n\u001b[0;32m    667\u001b[0m     delimiter,\n\u001b[1;32m   (...)\u001b[0m\n\u001b[0;32m    676\u001b[0m     defaults\u001b[38;5;241m=\u001b[39m{\u001b[38;5;124m\"\u001b[39m\u001b[38;5;124mdelimiter\u001b[39m\u001b[38;5;124m\"\u001b[39m: \u001b[38;5;124m\"\u001b[39m\u001b[38;5;124m,\u001b[39m\u001b[38;5;124m\"\u001b[39m},\n\u001b[0;32m    677\u001b[0m )\n\u001b[0;32m    678\u001b[0m kwds\u001b[38;5;241m.\u001b[39mupdate(kwds_defaults)\n\u001b[1;32m--> 680\u001b[0m \u001b[38;5;28;01mreturn\u001b[39;00m \u001b[43m_read\u001b[49m\u001b[43m(\u001b[49m\u001b[43mfilepath_or_buffer\u001b[49m\u001b[43m,\u001b[49m\u001b[43m \u001b[49m\u001b[43mkwds\u001b[49m\u001b[43m)\u001b[49m\n",
      "File \u001b[1;32mD:\\Anaconda\\lib\\site-packages\\pandas\\io\\parsers\\readers.py:575\u001b[0m, in \u001b[0;36m_read\u001b[1;34m(filepath_or_buffer, kwds)\u001b[0m\n\u001b[0;32m    572\u001b[0m _validate_names(kwds\u001b[38;5;241m.\u001b[39mget(\u001b[38;5;124m\"\u001b[39m\u001b[38;5;124mnames\u001b[39m\u001b[38;5;124m\"\u001b[39m, \u001b[38;5;28;01mNone\u001b[39;00m))\n\u001b[0;32m    574\u001b[0m \u001b[38;5;66;03m# Create the parser.\u001b[39;00m\n\u001b[1;32m--> 575\u001b[0m parser \u001b[38;5;241m=\u001b[39m TextFileReader(filepath_or_buffer, \u001b[38;5;241m*\u001b[39m\u001b[38;5;241m*\u001b[39mkwds)\n\u001b[0;32m    577\u001b[0m \u001b[38;5;28;01mif\u001b[39;00m chunksize \u001b[38;5;129;01mor\u001b[39;00m iterator:\n\u001b[0;32m    578\u001b[0m     \u001b[38;5;28;01mreturn\u001b[39;00m parser\n",
      "File \u001b[1;32mD:\\Anaconda\\lib\\site-packages\\pandas\\io\\parsers\\readers.py:933\u001b[0m, in \u001b[0;36mTextFileReader.__init__\u001b[1;34m(self, f, engine, **kwds)\u001b[0m\n\u001b[0;32m    930\u001b[0m     \u001b[38;5;28mself\u001b[39m\u001b[38;5;241m.\u001b[39moptions[\u001b[38;5;124m\"\u001b[39m\u001b[38;5;124mhas_index_names\u001b[39m\u001b[38;5;124m\"\u001b[39m] \u001b[38;5;241m=\u001b[39m kwds[\u001b[38;5;124m\"\u001b[39m\u001b[38;5;124mhas_index_names\u001b[39m\u001b[38;5;124m\"\u001b[39m]\n\u001b[0;32m    932\u001b[0m \u001b[38;5;28mself\u001b[39m\u001b[38;5;241m.\u001b[39mhandles: IOHandles \u001b[38;5;241m|\u001b[39m \u001b[38;5;28;01mNone\u001b[39;00m \u001b[38;5;241m=\u001b[39m \u001b[38;5;28;01mNone\u001b[39;00m\n\u001b[1;32m--> 933\u001b[0m \u001b[38;5;28mself\u001b[39m\u001b[38;5;241m.\u001b[39m_engine \u001b[38;5;241m=\u001b[39m \u001b[38;5;28;43mself\u001b[39;49m\u001b[38;5;241;43m.\u001b[39;49m\u001b[43m_make_engine\u001b[49m\u001b[43m(\u001b[49m\u001b[43mf\u001b[49m\u001b[43m,\u001b[49m\u001b[43m \u001b[49m\u001b[38;5;28;43mself\u001b[39;49m\u001b[38;5;241;43m.\u001b[39;49m\u001b[43mengine\u001b[49m\u001b[43m)\u001b[49m\n",
      "File \u001b[1;32mD:\\Anaconda\\lib\\site-packages\\pandas\\io\\parsers\\readers.py:1217\u001b[0m, in \u001b[0;36mTextFileReader._make_engine\u001b[1;34m(self, f, engine)\u001b[0m\n\u001b[0;32m   1213\u001b[0m     mode \u001b[38;5;241m=\u001b[39m \u001b[38;5;124m\"\u001b[39m\u001b[38;5;124mrb\u001b[39m\u001b[38;5;124m\"\u001b[39m\n\u001b[0;32m   1214\u001b[0m \u001b[38;5;66;03m# error: No overload variant of \"get_handle\" matches argument types\u001b[39;00m\n\u001b[0;32m   1215\u001b[0m \u001b[38;5;66;03m# \"Union[str, PathLike[str], ReadCsvBuffer[bytes], ReadCsvBuffer[str]]\"\u001b[39;00m\n\u001b[0;32m   1216\u001b[0m \u001b[38;5;66;03m# , \"str\", \"bool\", \"Any\", \"Any\", \"Any\", \"Any\", \"Any\"\u001b[39;00m\n\u001b[1;32m-> 1217\u001b[0m \u001b[38;5;28mself\u001b[39m\u001b[38;5;241m.\u001b[39mhandles \u001b[38;5;241m=\u001b[39m \u001b[43mget_handle\u001b[49m\u001b[43m(\u001b[49m\u001b[43m  \u001b[49m\u001b[38;5;66;43;03m# type: ignore[call-overload]\u001b[39;49;00m\n\u001b[0;32m   1218\u001b[0m \u001b[43m    \u001b[49m\u001b[43mf\u001b[49m\u001b[43m,\u001b[49m\n\u001b[0;32m   1219\u001b[0m \u001b[43m    \u001b[49m\u001b[43mmode\u001b[49m\u001b[43m,\u001b[49m\n\u001b[0;32m   1220\u001b[0m \u001b[43m    \u001b[49m\u001b[43mencoding\u001b[49m\u001b[38;5;241;43m=\u001b[39;49m\u001b[38;5;28;43mself\u001b[39;49m\u001b[38;5;241;43m.\u001b[39;49m\u001b[43moptions\u001b[49m\u001b[38;5;241;43m.\u001b[39;49m\u001b[43mget\u001b[49m\u001b[43m(\u001b[49m\u001b[38;5;124;43m\"\u001b[39;49m\u001b[38;5;124;43mencoding\u001b[39;49m\u001b[38;5;124;43m\"\u001b[39;49m\u001b[43m,\u001b[49m\u001b[43m \u001b[49m\u001b[38;5;28;43;01mNone\u001b[39;49;00m\u001b[43m)\u001b[49m\u001b[43m,\u001b[49m\n\u001b[0;32m   1221\u001b[0m \u001b[43m    \u001b[49m\u001b[43mcompression\u001b[49m\u001b[38;5;241;43m=\u001b[39;49m\u001b[38;5;28;43mself\u001b[39;49m\u001b[38;5;241;43m.\u001b[39;49m\u001b[43moptions\u001b[49m\u001b[38;5;241;43m.\u001b[39;49m\u001b[43mget\u001b[49m\u001b[43m(\u001b[49m\u001b[38;5;124;43m\"\u001b[39;49m\u001b[38;5;124;43mcompression\u001b[39;49m\u001b[38;5;124;43m\"\u001b[39;49m\u001b[43m,\u001b[49m\u001b[43m \u001b[49m\u001b[38;5;28;43;01mNone\u001b[39;49;00m\u001b[43m)\u001b[49m\u001b[43m,\u001b[49m\n\u001b[0;32m   1222\u001b[0m \u001b[43m    \u001b[49m\u001b[43mmemory_map\u001b[49m\u001b[38;5;241;43m=\u001b[39;49m\u001b[38;5;28;43mself\u001b[39;49m\u001b[38;5;241;43m.\u001b[39;49m\u001b[43moptions\u001b[49m\u001b[38;5;241;43m.\u001b[39;49m\u001b[43mget\u001b[49m\u001b[43m(\u001b[49m\u001b[38;5;124;43m\"\u001b[39;49m\u001b[38;5;124;43mmemory_map\u001b[39;49m\u001b[38;5;124;43m\"\u001b[39;49m\u001b[43m,\u001b[49m\u001b[43m \u001b[49m\u001b[38;5;28;43;01mFalse\u001b[39;49;00m\u001b[43m)\u001b[49m\u001b[43m,\u001b[49m\n\u001b[0;32m   1223\u001b[0m \u001b[43m    \u001b[49m\u001b[43mis_text\u001b[49m\u001b[38;5;241;43m=\u001b[39;49m\u001b[43mis_text\u001b[49m\u001b[43m,\u001b[49m\n\u001b[0;32m   1224\u001b[0m \u001b[43m    \u001b[49m\u001b[43merrors\u001b[49m\u001b[38;5;241;43m=\u001b[39;49m\u001b[38;5;28;43mself\u001b[39;49m\u001b[38;5;241;43m.\u001b[39;49m\u001b[43moptions\u001b[49m\u001b[38;5;241;43m.\u001b[39;49m\u001b[43mget\u001b[49m\u001b[43m(\u001b[49m\u001b[38;5;124;43m\"\u001b[39;49m\u001b[38;5;124;43mencoding_errors\u001b[39;49m\u001b[38;5;124;43m\"\u001b[39;49m\u001b[43m,\u001b[49m\u001b[43m \u001b[49m\u001b[38;5;124;43m\"\u001b[39;49m\u001b[38;5;124;43mstrict\u001b[39;49m\u001b[38;5;124;43m\"\u001b[39;49m\u001b[43m)\u001b[49m\u001b[43m,\u001b[49m\n\u001b[0;32m   1225\u001b[0m \u001b[43m    \u001b[49m\u001b[43mstorage_options\u001b[49m\u001b[38;5;241;43m=\u001b[39;49m\u001b[38;5;28;43mself\u001b[39;49m\u001b[38;5;241;43m.\u001b[39;49m\u001b[43moptions\u001b[49m\u001b[38;5;241;43m.\u001b[39;49m\u001b[43mget\u001b[49m\u001b[43m(\u001b[49m\u001b[38;5;124;43m\"\u001b[39;49m\u001b[38;5;124;43mstorage_options\u001b[39;49m\u001b[38;5;124;43m\"\u001b[39;49m\u001b[43m,\u001b[49m\u001b[43m \u001b[49m\u001b[38;5;28;43;01mNone\u001b[39;49;00m\u001b[43m)\u001b[49m\u001b[43m,\u001b[49m\n\u001b[0;32m   1226\u001b[0m \u001b[43m\u001b[49m\u001b[43m)\u001b[49m\n\u001b[0;32m   1227\u001b[0m \u001b[38;5;28;01massert\u001b[39;00m \u001b[38;5;28mself\u001b[39m\u001b[38;5;241m.\u001b[39mhandles \u001b[38;5;129;01mis\u001b[39;00m \u001b[38;5;129;01mnot\u001b[39;00m \u001b[38;5;28;01mNone\u001b[39;00m\n\u001b[0;32m   1228\u001b[0m f \u001b[38;5;241m=\u001b[39m \u001b[38;5;28mself\u001b[39m\u001b[38;5;241m.\u001b[39mhandles\u001b[38;5;241m.\u001b[39mhandle\n",
      "File \u001b[1;32mD:\\Anaconda\\lib\\site-packages\\pandas\\io\\common.py:789\u001b[0m, in \u001b[0;36mget_handle\u001b[1;34m(path_or_buf, mode, encoding, compression, memory_map, is_text, errors, storage_options)\u001b[0m\n\u001b[0;32m    784\u001b[0m \u001b[38;5;28;01melif\u001b[39;00m \u001b[38;5;28misinstance\u001b[39m(handle, \u001b[38;5;28mstr\u001b[39m):\n\u001b[0;32m    785\u001b[0m     \u001b[38;5;66;03m# Check whether the filename is to be opened in binary mode.\u001b[39;00m\n\u001b[0;32m    786\u001b[0m     \u001b[38;5;66;03m# Binary mode does not support 'encoding' and 'newline'.\u001b[39;00m\n\u001b[0;32m    787\u001b[0m     \u001b[38;5;28;01mif\u001b[39;00m ioargs\u001b[38;5;241m.\u001b[39mencoding \u001b[38;5;129;01mand\u001b[39;00m \u001b[38;5;124m\"\u001b[39m\u001b[38;5;124mb\u001b[39m\u001b[38;5;124m\"\u001b[39m \u001b[38;5;129;01mnot\u001b[39;00m \u001b[38;5;129;01min\u001b[39;00m ioargs\u001b[38;5;241m.\u001b[39mmode:\n\u001b[0;32m    788\u001b[0m         \u001b[38;5;66;03m# Encoding\u001b[39;00m\n\u001b[1;32m--> 789\u001b[0m         handle \u001b[38;5;241m=\u001b[39m \u001b[38;5;28;43mopen\u001b[39;49m\u001b[43m(\u001b[49m\n\u001b[0;32m    790\u001b[0m \u001b[43m            \u001b[49m\u001b[43mhandle\u001b[49m\u001b[43m,\u001b[49m\n\u001b[0;32m    791\u001b[0m \u001b[43m            \u001b[49m\u001b[43mioargs\u001b[49m\u001b[38;5;241;43m.\u001b[39;49m\u001b[43mmode\u001b[49m\u001b[43m,\u001b[49m\n\u001b[0;32m    792\u001b[0m \u001b[43m            \u001b[49m\u001b[43mencoding\u001b[49m\u001b[38;5;241;43m=\u001b[39;49m\u001b[43mioargs\u001b[49m\u001b[38;5;241;43m.\u001b[39;49m\u001b[43mencoding\u001b[49m\u001b[43m,\u001b[49m\n\u001b[0;32m    793\u001b[0m \u001b[43m            \u001b[49m\u001b[43merrors\u001b[49m\u001b[38;5;241;43m=\u001b[39;49m\u001b[43merrors\u001b[49m\u001b[43m,\u001b[49m\n\u001b[0;32m    794\u001b[0m \u001b[43m            \u001b[49m\u001b[43mnewline\u001b[49m\u001b[38;5;241;43m=\u001b[39;49m\u001b[38;5;124;43m\"\u001b[39;49m\u001b[38;5;124;43m\"\u001b[39;49m\u001b[43m,\u001b[49m\n\u001b[0;32m    795\u001b[0m \u001b[43m        \u001b[49m\u001b[43m)\u001b[49m\n\u001b[0;32m    796\u001b[0m     \u001b[38;5;28;01melse\u001b[39;00m:\n\u001b[0;32m    797\u001b[0m         \u001b[38;5;66;03m# Binary mode\u001b[39;00m\n\u001b[0;32m    798\u001b[0m         handle \u001b[38;5;241m=\u001b[39m \u001b[38;5;28mopen\u001b[39m(handle, ioargs\u001b[38;5;241m.\u001b[39mmode)\n",
      "\u001b[1;31mFileNotFoundError\u001b[0m: [Errno 2] No such file or directory: 'Grade_Set_1_Classification.csv'"
     ]
    }
   ],
   "source": [
    "df = pd.read_csv(\"Grade_Set_1_Classification.csv\")\n",
    "\n",
    "independent_variables = ['Hours_Studied']\n",
    "dependent_variables = ['Result']\n",
    "\n",
    "x = df[independent_variables]\n",
    "#X=np.expand_dims(X,1)\n",
    "y = df[dependent_variables]\n",
    "\n",
    "\n",
    "# instantiate logit model\n",
    "model = LogisticRegression()\n",
    "model = model.fit(x, y.values.ravel())"
   ]
  },
  {
   "cell_type": "code",
   "execution_count": null,
   "metadata": {},
   "outputs": [],
   "source": [
    "# check the accuracy\n",
    "print(model.score(x, y))\n",
    "\n",
    "# predict probability\n",
    "print (\"Predict probability : \", model.predict_proba(x)[:, 1])\n",
    "# predict outcome (y=1 or y=0)\n",
    "print (\"Predicted class : \", model.predict(x))\n",
    "# plot fitted line\n",
    "plt.scatter(df. Hours_Studied , y)\n",
    "plt.yticks([0.0, 0.5, 1.0])\n",
    "plt.plot(df. Hours_Studied , model . predict_proba(x)[:, 1], color =\"red\")\n",
    "plt.title(\"Hours studied vs Result\")\n",
    "plt.ylabel(\"Result\")\n",
    "plt.xlabel(\"Hours Studied\")\n",
    "plt.show()"
   ]
  },
  {
   "cell_type": "code",
   "execution_count": null,
   "metadata": {},
   "outputs": [],
   "source": [
    "# generate evaluation metrics\n",
    "print(\"Train accuracy : \", metrics.accuracy_score (y,model.predict(x)))\n",
    "print (\"Train confusion matrix \\n\",metrics.confusion_matrix(y,model.predict(x)))\n",
    "print (\"Classification report : \\n\", metrics.classification_report(y,model.\n",
    "predict (x)))\n"
   ]
  },
  {
   "cell_type": "markdown",
   "metadata": {},
   "source": [
    "Iris"
   ]
  },
  {
   "cell_type": "code",
   "execution_count": null,
   "metadata": {},
   "outputs": [],
   "source": [
    "iris = datasets.load_iris()\n",
    "\n",
    "x = iris.data\n",
    "y = iris.target\n",
    "print ('Class labels : ', np. unique (y))\n"
   ]
  },
  {
   "cell_type": "code",
   "execution_count": null,
   "metadata": {},
   "outputs": [],
   "source": [
    "iris_df=pd.DataFrame(iris.data)\n",
    "iris_df['class']=iris.target\n",
    "iris_df.columns=['sepal_len', 'sepal_wid', 'petal_len', 'petal_wid', 'class']"
   ]
  },
  {
   "cell_type": "code",
   "execution_count": null,
   "metadata": {},
   "outputs": [],
   "source": [
    "#Missing values or 0\n",
    "for linhas in x:\n",
    "    for elem in linhas:\n",
    "        if elem == 0 or elem is None:\n",
    "            print(elem)\n"
   ]
  },
  {
   "cell_type": "code",
   "execution_count": null,
   "metadata": {},
   "outputs": [],
   "source": [
    "iris_df.dropna(how=\"all\", inplace=True) # remove any empty lines"
   ]
  },
  {
   "cell_type": "code",
   "execution_count": null,
   "metadata": {},
   "outputs": [],
   "source": [
    "independent_variables =  ['sepal_len', 'sepal_wid', 'petal_len', 'petal_wid']\n",
    "dependent_variables = ['class']"
   ]
  },
  {
   "cell_type": "code",
   "execution_count": null,
   "metadata": {},
   "outputs": [],
   "source": [
    "corr_matrix = iris_df.corr()\n",
    "sn.heatmap(corr_matrix, annot=True)\n",
    "plt.show()"
   ]
  },
  {
   "cell_type": "code",
   "execution_count": null,
   "metadata": {},
   "outputs": [],
   "source": [
    "from statsmodels.stats.outliers_influence import variance_inflation_factor\n",
    "\n",
    "thresh = 10\n",
    "for i in np.arange(0, len(iris_df)):\n",
    "    vif = [variance_inflation_factor(iris_df[independent_variables].values,ix)\n",
    "        for ix in range(iris_df[independent_variables].shape[1])]\n",
    "    maxloc = vif.index(max(vif))\n",
    "    if max(vif) > thresh:\n",
    "        print('vif :', vif)\n",
    "        print('dropping', iris_df[independent_variables].columns[maxloc],\n",
    "              'at index', maxloc)\n",
    "        del independent_variables[maxloc]\n",
    "    else:\n",
    "        break\n",
    "\n",
    "print('Final variables :',independent_variables)"
   ]
  },
  {
   "cell_type": "code",
   "execution_count": null,
   "metadata": {},
   "outputs": [],
   "source": [
    "\"\"\"\n",
    "normalize data\n",
    "sc = preprocessing.StandardScaler()\n",
    "sc.fit(x)\n",
    "x = sc.transform(x)\n",
    "\"\"\""
   ]
  },
  {
   "cell_type": "code",
   "execution_count": null,
   "metadata": {},
   "outputs": [],
   "source": [
    "# split into train test\n",
    "x_train , x_test , y_train , y_test = model_selection.train_test_split(iris_df[independent_variables], \n",
    "                                                                       iris_df[dependent_variables], \n",
    "                                                                       test_size =.2,random_state =0)"
   ]
  },
  {
   "cell_type": "markdown",
   "metadata": {},
   "source": [
    "# Logistic Regression without regularization"
   ]
  },
  {
   "cell_type": "code",
   "execution_count": null,
   "metadata": {},
   "outputs": [],
   "source": [
    "lr = LogisticRegression ()\n",
    "# l1 - lasso regularization ; l2 - ridge regularization\n",
    "# C - inverse of regularization strength\n",
    "lr.fit(x_train,y_train.values.ravel() )\n",
    "from sklearn import metrics\n",
    "# generate evaluation metrics\n",
    "print ('Train accuracy : ', metrics.accuracy_score (y_train,lr.predict( x_train)))\n",
    "print ('Train confusion matrix \\n', metrics.confusion_matrix (y_train,lr.predict(x_train)))\n",
    "print ('Classification report : \\n',metrics.classification_report(y_train,lr.predict(x_train)))\n",
    "print ('Test accuracy : ', metrics.accuracy_score(y_test,lr.predict(x_test)))\n",
    "print ('Test confusion matrix \\n', metrics.confusion_matrix (y_test, lr.predict(x_test)))\n",
    "print ('Classification report : \\n',metrics.classification_report(y_test,lr.predict(x_test)))"
   ]
  },
  {
   "cell_type": "code",
   "execution_count": 3,
   "metadata": {},
   "outputs": [
    {
     "ename": "NameError",
     "evalue": "name 'x_train' is not defined",
     "output_type": "error",
     "traceback": [
      "\u001b[1;31m---------------------------------------------------------------------------\u001b[0m",
      "\u001b[1;31mNameError\u001b[0m                                 Traceback (most recent call last)",
      "Input \u001b[1;32mIn [3]\u001b[0m, in \u001b[0;36m<cell line: 4>\u001b[1;34m()\u001b[0m\n\u001b[0;32m      1\u001b[0m lr \u001b[38;5;241m=\u001b[39m LogisticRegression (penalty \u001b[38;5;241m=\u001b[39m\u001b[38;5;124m'\u001b[39m\u001b[38;5;124ml2\u001b[39m\u001b[38;5;124m'\u001b[39m, C\u001b[38;5;241m=\u001b[39m\u001b[38;5;241m10\u001b[39m , random_state \u001b[38;5;241m=\u001b[39m\u001b[38;5;241m0\u001b[39m)\n\u001b[0;32m      2\u001b[0m \u001b[38;5;66;03m# l1 - lasso regularization ; l2 - ridge regularization\u001b[39;00m\n\u001b[0;32m      3\u001b[0m \u001b[38;5;66;03m# C - inverse of regularization strength\u001b[39;00m\n\u001b[1;32m----> 4\u001b[0m lr\u001b[38;5;241m.\u001b[39mfit(\u001b[43mx_train\u001b[49m, y_train\u001b[38;5;241m.\u001b[39mvalues\u001b[38;5;241m.\u001b[39mravel() )\n\u001b[0;32m      5\u001b[0m \u001b[38;5;28;01mfrom\u001b[39;00m \u001b[38;5;21;01msklearn\u001b[39;00m \u001b[38;5;28;01mimport\u001b[39;00m metrics\n\u001b[0;32m      6\u001b[0m \u001b[38;5;66;03m# generate evaluation metrics\u001b[39;00m\n",
      "\u001b[1;31mNameError\u001b[0m: name 'x_train' is not defined"
     ]
    }
   ],
   "source": [
    "lr = LogisticRegression (penalty ='l2', C=10 , random_state =0)\n",
    "# l1 - lasso regularization ; l2 - ridge regularization\n",
    "# C - inverse of regularization strength\n",
    "lr.fit(x_train, y_train.values.ravel() )\n",
    "from sklearn import metrics\n",
    "# generate evaluation metrics\n",
    "print ('Train accuracy : ', metrics.accuracy_score (y_train,lr.predict( x_train)))\n",
    "print ('Train confusion matrix \\n', metrics.confusion_matrix (y_train,lr.predict(x_train)))\n",
    "print ('Classification report : \\n',metrics.classification_report(y_train,lr.predict(x_train)))\n",
    "print ('Test accuracy : ', metrics.accuracy_score(y_test,lr.predict(x_test)))\n",
    "print ('Test confusion matrix \\n', metrics.confusion_matrix (y_test, lr.predict(x_test)))\n",
    "print ('Classification report : \\n',metrics.classification_report(y_test,lr.predict(x_test)))"
   ]
  },
  {
   "cell_type": "markdown",
   "metadata": {
    "pycharm": {
     "is_executing": true
    }
   },
   "source": [
    "# Valores ao quadrado"
   ]
  },
  {
   "cell_type": "code",
   "execution_count": 158,
   "metadata": {
    "pycharm": {
     "is_executing": true
    }
   },
   "outputs": [],
   "source": [
    "iris_df_2 = iris_df\n",
    "\n",
    "iris_df_2.insert(1, \"sepal_len_2\", iris_df_2['sepal_len']**2, True)\n",
    "iris_df_2.insert(3, \"sepal_wid_2\", iris_df_2['sepal_wid']**2, True)\n",
    "iris_df_2.insert(5, \"petal_len_2\", iris_df_2['petal_len']**2, True)\n",
    "iris_df_2.insert(7, \"petal_wid_2\", iris_df_2['petal_wid']**2, True)"
   ]
  },
  {
   "cell_type": "code",
   "execution_count": 159,
   "metadata": {},
   "outputs": [
    {
     "name": "stdout",
     "output_type": "stream",
     "text": [
      "     sepal_len  sepal_len_2  sepal_wid  sepal_wid_2  petal_len  petal_len_2  \\\n",
      "0          5.1        26.01        3.5        12.25        1.4         1.96   \n",
      "1          4.9        24.01        3.0         9.00        1.4         1.96   \n",
      "2          4.7        22.09        3.2        10.24        1.3         1.69   \n",
      "3          4.6        21.16        3.1         9.61        1.5         2.25   \n",
      "4          5.0        25.00        3.6        12.96        1.4         1.96   \n",
      "..         ...          ...        ...          ...        ...          ...   \n",
      "145        6.7        44.89        3.0         9.00        5.2        27.04   \n",
      "146        6.3        39.69        2.5         6.25        5.0        25.00   \n",
      "147        6.5        42.25        3.0         9.00        5.2        27.04   \n",
      "148        6.2        38.44        3.4        11.56        5.4        29.16   \n",
      "149        5.9        34.81        3.0         9.00        5.1        26.01   \n",
      "\n",
      "     petal_wid  petal_wid_2  class  \n",
      "0          0.2         0.04      0  \n",
      "1          0.2         0.04      0  \n",
      "2          0.2         0.04      0  \n",
      "3          0.2         0.04      0  \n",
      "4          0.2         0.04      0  \n",
      "..         ...          ...    ...  \n",
      "145        2.3         5.29      2  \n",
      "146        1.9         3.61      2  \n",
      "147        2.0         4.00      2  \n",
      "148        2.3         5.29      2  \n",
      "149        1.8         3.24      2  \n",
      "\n",
      "[150 rows x 9 columns]\n"
     ]
    }
   ],
   "source": [
    "print(iris_df_2)"
   ]
  },
  {
   "cell_type": "code",
   "execution_count": 160,
   "metadata": {
    "pycharm": {
     "is_executing": true
    }
   },
   "outputs": [
    {
     "name": "stdout",
     "output_type": "stream",
     "text": [
      "     sepal_len  sepal_len_2  sepal_wid  sepal_wid_2  petal_len  petal_len_2  \\\n",
      "0          5.1        26.01        3.5        12.25        1.4         1.96   \n",
      "1          4.9        24.01        3.0         9.00        1.4         1.96   \n",
      "2          4.7        22.09        3.2        10.24        1.3         1.69   \n",
      "3          4.6        21.16        3.1         9.61        1.5         2.25   \n",
      "4          5.0        25.00        3.6        12.96        1.4         1.96   \n",
      "..         ...          ...        ...          ...        ...          ...   \n",
      "145        6.7        44.89        3.0         9.00        5.2        27.04   \n",
      "146        6.3        39.69        2.5         6.25        5.0        25.00   \n",
      "147        6.5        42.25        3.0         9.00        5.2        27.04   \n",
      "148        6.2        38.44        3.4        11.56        5.4        29.16   \n",
      "149        5.9        34.81        3.0         9.00        5.1        26.01   \n",
      "\n",
      "     petal_wid  petal_wid_2  class  \n",
      "0          0.2         0.04      0  \n",
      "1          0.2         0.04      0  \n",
      "2          0.2         0.04      0  \n",
      "3          0.2         0.04      0  \n",
      "4          0.2         0.04      0  \n",
      "..         ...          ...    ...  \n",
      "145        2.3         5.29      2  \n",
      "146        1.9         3.61      2  \n",
      "147        2.0         4.00      2  \n",
      "148        2.3         5.29      2  \n",
      "149        1.8         3.24      2  \n",
      "\n",
      "[150 rows x 9 columns]\n"
     ]
    }
   ],
   "source": [
    "independent_variables =  ['sepal_len','sepal_len_2', 'sepal_wid','sepal_wid_2', 'petal_len','petal_len_2',\n",
    "                          'petal_wid','petal_wid_2']\n",
    "dependent_variables = ['class']\n",
    "print(iris_df_2)"
   ]
  },
  {
   "cell_type": "code",
   "execution_count": 161,
   "metadata": {},
   "outputs": [
    {
     "name": "stdout",
     "output_type": "stream",
     "text": [
      "vif : [5163.254626564767, 1455.3909503058974, 3777.2878805368814, 951.6648253995239, 1451.9584542614484, 446.3040427619074, 588.6228287582092, 166.37873087498343]\n",
      "dropping sepal_len at index 0\n",
      "vif : [99.26258713326521, 486.1838129771048, 211.20221319706795, 1214.9991104608523, 349.12715654784137, 586.6195600517759, 166.23766482478638]\n",
      "dropping petal_len at index 3\n",
      "vif : [99.24582052355282, 204.34307755564691, 119.28886881595567, 61.6087936518472, 109.46534083674025, 46.65125693306431]\n",
      "dropping sepal_wid at index 1\n",
      "vif : [82.39339459878727, 20.980449128399744, 53.382718163387004, 70.65377958691404, 36.09490217596683]\n",
      "dropping sepal_len_2 at index 0\n",
      "vif : [3.018698876920845, 27.08307564006324, 57.9701813770677, 24.23036603411758]\n",
      "dropping petal_wid at index 2\n",
      "vif : [2.089233175198542, 14.640524560166142, 12.77559767078637]\n",
      "dropping petal_len_2 at index 1\n",
      "Final variables : ['sepal_wid_2', 'petal_wid_2']\n"
     ]
    }
   ],
   "source": [
    "from statsmodels.stats.outliers_influence import variance_inflation_factor\n",
    "\n",
    "thresh = 10\n",
    "for i in np.arange(0, len(iris_df_2)):\n",
    "    vif = [variance_inflation_factor(iris_df_2[independent_variables].values,ix)\n",
    "        for ix in range(iris_df_2[independent_variables].shape[1])]\n",
    "    maxloc = vif.index(max(vif))\n",
    "    if max(vif) > thresh:\n",
    "        print('vif :', vif)\n",
    "        print('dropping', iris_df_2[independent_variables].columns[maxloc],\n",
    "              'at index', maxloc)\n",
    "        del independent_variables[maxloc]\n",
    "    else:\n",
    "        break\n",
    "\n",
    "print('Final variables :',independent_variables)"
   ]
  },
  {
   "cell_type": "code",
   "execution_count": 162,
   "metadata": {},
   "outputs": [],
   "source": [
    "# split into train test\n",
    "x_train , x_test , y_train , y_test = model_selection.train_test_split(iris_df_2[independent_variables], \n",
    "                                                                       iris_df_2[dependent_variables], \n",
    "                                                                       test_size =.2,random_state =0)"
   ]
  },
  {
   "cell_type": "code",
   "execution_count": 163,
   "metadata": {},
   "outputs": [
    {
     "name": "stdout",
     "output_type": "stream",
     "text": [
      "Train accuracy :  0.95\n",
      "Train confusion matrix \n",
      " [[38  1  0]\n",
      " [ 0 35  2]\n",
      " [ 0  3 41]]\n",
      "Classification report : \n",
      "               precision    recall  f1-score   support\n",
      "\n",
      "           0       1.00      0.97      0.99        39\n",
      "           1       0.90      0.95      0.92        37\n",
      "           2       0.95      0.93      0.94        44\n",
      "\n",
      "    accuracy                           0.95       120\n",
      "   macro avg       0.95      0.95      0.95       120\n",
      "weighted avg       0.95      0.95      0.95       120\n",
      "\n",
      "Test accuracy :  0.9666666666666667\n",
      "Test confusion matrix \n",
      " [[11  0  0]\n",
      " [ 0 13  0]\n",
      " [ 0  1  5]]\n",
      "Classification report : \n",
      "               precision    recall  f1-score   support\n",
      "\n",
      "           0       1.00      1.00      1.00        11\n",
      "           1       0.93      1.00      0.96        13\n",
      "           2       1.00      0.83      0.91         6\n",
      "\n",
      "    accuracy                           0.97        30\n",
      "   macro avg       0.98      0.94      0.96        30\n",
      "weighted avg       0.97      0.97      0.97        30\n",
      "\n"
     ]
    }
   ],
   "source": [
    "lr = LogisticRegression ()\n",
    "# l1 - lasso regularization ; l2 - ridge regularization\n",
    "# C - inverse of regularization strength\n",
    "lr.fit(x_train,y_train.values.ravel() )\n",
    "from sklearn import metrics\n",
    "# generate evaluation metrics\n",
    "print ('Train accuracy : ', metrics.accuracy_score (y_train,lr.predict( x_train)))\n",
    "print ('Train confusion matrix \\n', metrics.confusion_matrix (y_train,lr.predict(x_train)))\n",
    "print ('Classification report : \\n',metrics.classification_report(y_train,lr.predict(x_train)))\n",
    "print ('Test accuracy : ', metrics.accuracy_score(y_test,lr.predict(x_test)))\n",
    "print ('Test confusion matrix \\n', metrics.confusion_matrix (y_test, lr.predict(x_test)))\n",
    "print ('Classification report : \\n',metrics.classification_report(y_test,lr.predict(x_test)))"
   ]
  },
  {
   "cell_type": "code",
   "execution_count": 164,
   "metadata": {},
   "outputs": [
    {
     "name": "stdout",
     "output_type": "stream",
     "text": [
      "Train accuracy :  0.9583333333333334\n",
      "Train confusion matrix \n",
      " [[39  0  0]\n",
      " [ 0 35  2]\n",
      " [ 0  3 41]]\n",
      "Classification report : \n",
      "               precision    recall  f1-score   support\n",
      "\n",
      "           0       1.00      1.00      1.00        39\n",
      "           1       0.92      0.95      0.93        37\n",
      "           2       0.95      0.93      0.94        44\n",
      "\n",
      "    accuracy                           0.96       120\n",
      "   macro avg       0.96      0.96      0.96       120\n",
      "weighted avg       0.96      0.96      0.96       120\n",
      "\n",
      "Test accuracy :  0.9666666666666667\n",
      "Test confusion matrix \n",
      " [[11  0  0]\n",
      " [ 0 13  0]\n",
      " [ 0  1  5]]\n",
      "Classification report : \n",
      "               precision    recall  f1-score   support\n",
      "\n",
      "           0       1.00      1.00      1.00        11\n",
      "           1       0.93      1.00      0.96        13\n",
      "           2       1.00      0.83      0.91         6\n",
      "\n",
      "    accuracy                           0.97        30\n",
      "   macro avg       0.98      0.94      0.96        30\n",
      "weighted avg       0.97      0.97      0.97        30\n",
      "\n"
     ]
    }
   ],
   "source": [
    "lr = LogisticRegression (penalty ='l2', C=10 , random_state =0)\n",
    "# l1 - lasso regularization ; l2 - ridge regularization\n",
    "# C - inverse of regularization strength\n",
    "lr.fit(x_train, y_train.values.ravel() )\n",
    "from sklearn import metrics\n",
    "# generate evaluation metrics\n",
    "print ('Train accuracy : ', metrics.accuracy_score (y_train,lr.predict( x_train)))\n",
    "print ('Train confusion matrix \\n', metrics.confusion_matrix (y_train,lr.predict(x_train)))\n",
    "print ('Classification report : \\n',metrics.classification_report(y_train,lr.predict(x_train)))\n",
    "print ('Test accuracy : ', metrics.accuracy_score(y_test,lr.predict(x_test)))\n",
    "print ('Test confusion matrix \\n', metrics.confusion_matrix (y_test, lr.predict(x_test)))\n",
    "print ('Classification report : \\n',metrics.classification_report(y_test,lr.predict(x_test)))"
   ]
  },
  {
   "cell_type": "markdown",
   "metadata": {},
   "source": [
    "# Score Exams Admission"
   ]
  },
  {
   "cell_type": "code",
   "execution_count": 4,
   "metadata": {},
   "outputs": [
    {
     "data": {
      "text/plain": [
       "score_exam_1    float64\n",
       "score_exam_2    float64\n",
       "admission         int64\n",
       "dtype: object"
      ]
     },
     "execution_count": 4,
     "metadata": {},
     "output_type": "execute_result"
    }
   ],
   "source": [
    "df_exams = pd.read_csv(\"Score_Exams_Admission.csv\")\n",
    "df_exams.head()\n",
    "df_exams.dtypes"
   ]
  },
  {
   "cell_type": "markdown",
   "metadata": {},
   "source": [
    "Verificar se os tipos são numéricos e se tem valores negativos"
   ]
  },
  {
   "cell_type": "code",
   "execution_count": 5,
   "metadata": {},
   "outputs": [
    {
     "name": "stdout",
     "output_type": "stream",
     "text": [
      "score_exam_1    float64\n",
      "score_exam_2    float64\n",
      "admission         int64\n",
      "dtype: object\n",
      "score_exam_1    0\n",
      "score_exam_2    0\n",
      "admission       0\n",
      "dtype: int64\n"
     ]
    }
   ],
   "source": [
    "print(df_exams.dtypes)\n",
    "print(df_exams.isnull().sum())"
   ]
  },
  {
   "cell_type": "code",
   "execution_count": 6,
   "metadata": {},
   "outputs": [
    {
     "name": "stdout",
     "output_type": "stream",
     "text": [
      "[34.62365962 30.28671077 35.84740877 60.18259939 79.03273605 45.08327748\n",
      " 61.10666454 75.02474557 76.0987867  84.43281996 95.86155507 75.01365839\n",
      " 82.30705337 69.36458876 39.53833914 53.97105215 69.07014406 67.94685548\n",
      " 70.66150955 76.97878373 67.37202755 89.67677575 50.53478829 34.21206098\n",
      " 77.92409145 62.27101367 80.19018075 93.1143888  61.83020602 38.7858038\n",
      " 61.37928945 85.40451939 52.10797973 52.04540477 40.23689374 54.63510555\n",
      " 33.91550011 64.17698887 74.78925296 34.18364003 83.90239366 51.54772027\n",
      " 94.44336777 82.36875376 51.04775177 62.22267576 77.19303493 97.77159928\n",
      " 62.0730638  91.5649745  79.94481794 99.27252693 90.54671411 34.52451385\n",
      " 50.28649612 49.58667722 97.64563396 32.57720017 74.24869137 71.79646206\n",
      " 75.39561147 35.28611282 56.2538175  30.05882245 44.66826172 66.56089447\n",
      " 40.45755098 49.07256322 80.27957401 66.74671857 32.72283304 64.03932042\n",
      " 72.34649423 60.45788574 58.84095622 99.8278578  47.26426911 50.4581598\n",
      " 60.45555629 82.22666158 88.91389642 94.83450672 67.31925747 57.23870632\n",
      " 80.366756   68.46852179 42.07545454 75.47770201 78.63542435 52.34800399\n",
      " 94.09433113 90.44855097 55.48216114 74.49269242 89.84580671 83.48916274\n",
      " 42.26170081 99.31500881 55.34001756 74.775893  ]\n"
     ]
    }
   ],
   "source": [
    "print(df_exams.score_exam_1.unique())"
   ]
  },
  {
   "cell_type": "code",
   "execution_count": 7,
   "metadata": {},
   "outputs": [
    {
     "name": "stdout",
     "output_type": "stream",
     "text": [
      "[78.02469282 43.89499752 72.90219803 86.3085521  75.34437644 56.31637178\n",
      " 96.51142588 46.55401354 87.42056972 43.53339331 38.22527806 30.60326323\n",
      " 76.4819633  97.71869196 76.03681085 89.20735014 52.74046973 46.67857411\n",
      " 92.92713789 47.57596365 42.83843832 65.79936593 48.85581153 44.2095286\n",
      " 68.97235999 69.95445795 44.82162893 38.80067034 50.25610789 64.99568096\n",
      " 72.80788731 57.05198398 63.12762377 69.43286012 71.16774802 52.21388588\n",
      " 98.86943574 80.90806059 41.57341523 75.23772034 56.30804622 46.85629026\n",
      " 65.56892161 40.61825516 45.82270146 52.06099195 70.4582     86.72782233\n",
      " 96.76882412 88.69629255 74.16311935 60.999031   43.39060181 60.39634246\n",
      " 49.80453881 59.80895099 68.86157272 95.59854761 69.82457123 78.45356225\n",
      " 85.75993667 47.02051395 39.26147251 49.59297387 66.45008615 41.09209808\n",
      " 97.53518549 51.88321182 92.11606081 60.99139403 43.30717306 78.03168802\n",
      " 96.22759297 73.0949981  75.85844831 72.36925193 88.475865   75.80985953\n",
      " 42.50840944 42.71987854 69.8037889  45.6943068  66.58935318 59.51428198\n",
      " 90.9601479  85.5943071  78.844786   90.424539   96.64742717 60.76950526\n",
      " 77.15910509 87.50879176 35.57070347 84.84513685 45.35828361 48.3802858\n",
      " 87.10385094 68.77540947 64.93193801 89.5298129 ]\n"
     ]
    }
   ],
   "source": [
    "print(df_exams.score_exam_2.unique())"
   ]
  },
  {
   "cell_type": "code",
   "execution_count": 8,
   "metadata": {},
   "outputs": [
    {
     "name": "stdout",
     "output_type": "stream",
     "text": [
      "[0 1]\n"
     ]
    }
   ],
   "source": [
    "print(df_exams.admission.unique())"
   ]
  },
  {
   "cell_type": "code",
   "execution_count": 9,
   "metadata": {},
   "outputs": [
    {
     "data": {
      "image/png": "[encoded data removed]",
      "text/plain": [
       "<Figure size 432x288 with 1 Axes>"
      ]
     },
     "metadata": {
      "needs_background": "light"
     },
     "output_type": "display_data"
    },
    {
     "data": {
      "image/png": "[encoded data removed]",
      "text/plain": [
       "<Figure size 432x288 with 1 Axes>"
      ]
     },
     "metadata": {
      "needs_background": "light"
     },
     "output_type": "display_data"
    },
    {
     "data": {
      "image/png": "[encoded data removed]",
      "text/plain": [
       "<Figure size 432x288 with 1 Axes>"
      ]
     },
     "metadata": {
      "needs_background": "light"
     },
     "output_type": "display_data"
    }
   ],
   "source": [
    "for column in df_exams:\n",
    "    plt.figure()\n",
    "    df_exams.boxplot([column],grid='true', color='blue',fontsize=10, rot=30)\n",
    "plt.show()"
   ]
  },
  {
   "cell_type": "code",
   "execution_count": 10,
   "metadata": {},
   "outputs": [],
   "source": [
    "# instantiate logit model\n",
    "independent_variables = ['score_exam_1','score_exam_2']\n",
    "dependent_variables = ['admission']\n",
    "\n",
    "x = df_exams[independent_variables]\n",
    "#X=np.expand_dims(X,1)\n",
    "y = df_exams[dependent_variables]\n",
    "\n",
    "model = LogisticRegression()\n",
    "model = model.fit(x, y.values.ravel())"
   ]
  },
  {
   "cell_type": "code",
   "execution_count": 11,
   "metadata": {},
   "outputs": [
    {
     "name": "stdout",
     "output_type": "stream",
     "text": [
      "0.89\n",
      "Predict probability :  [9.18239681e-02 4.41425284e-05 4.44572493e-02 9.90230737e-01\n",
      " 9.98149467e-01 1.10090385e-02 9.98946927e-01 4.23722152e-01\n",
      " 9.99699637e-01 7.34698796e-01 9.08944908e-01 2.90501560e-02\n",
      " 9.99247237e-01 9.99848224e-01 1.56956717e-01 9.80632040e-01\n",
      " 4.28146911e-01 1.49820875e-01 9.99695998e-01 5.74135936e-01\n",
      " 6.75895689e-02 9.98588459e-01 7.57768036e-03 1.05271459e-04\n",
      " 9.91712132e-01 8.54108704e-01 6.00067703e-01 8.64372311e-01\n",
      " 9.32573901e-02 1.71197103e-02 8.96267965e-01 9.80730013e-01\n",
      " 1.55883099e-01 3.92382984e-01 7.48650994e-02 3.35904473e-02\n",
      " 8.51210756e-01 9.87329324e-01 2.05070616e-01 5.01661489e-02\n",
      " 9.69882182e-01 6.25560208e-03 9.99444052e-01 5.02499775e-01\n",
      " 4.59585146e-03 1.38015746e-01 9.92843482e-01 9.99995971e-01\n",
      " 9.99179745e-01 9.99990288e-01 9.98055470e-01 9.99484226e-01\n",
      " 9.04259186e-01 2.87768723e-03 8.70055101e-03 5.35238463e-02\n",
      " 9.99851137e-01 6.92794235e-01 9.85237877e-01 9.95627668e-01\n",
      " 9.99515893e-01 2.30630510e-04 3.59367460e-03 1.32086830e-04\n",
      " 7.23905433e-02 4.14403337e-02 9.43743998e-01 1.02723982e-02\n",
      " 9.99950357e-01 7.08572105e-01 6.47002283e-05 9.77033598e-01\n",
      " 9.99889038e-01 8.83376783e-01 9.04396841e-01 9.99952940e-01\n",
      " 9.16871692e-01 6.26181021e-01 1.61294233e-02 5.99257297e-01\n",
      " 9.99260075e-01 9.73092564e-01 8.93679855e-01 2.04184632e-01\n",
      " 9.99938514e-01 9.97927626e-01 3.55075051e-01 9.99813188e-01\n",
      " 9.99971961e-01 1.07849813e-01 9.99941557e-01 9.99984501e-01\n",
      " 1.46599824e-03 9.99300054e-01 9.23876520e-01 8.57785587e-01\n",
      " 7.49899522e-01 9.99892495e-01 3.39941803e-01 9.99741830e-01]\n",
      "Predicted class :  [0 0 0 1 1 0 1 0 1 1 1 0 1 1 0 1 0 0 1 1 0 1 0 0 1 1 1 1 0 0 1 1 0 0 0 0 1\n",
      " 1 0 0 1 0 1 1 0 0 1 1 1 1 1 1 1 0 0 0 1 1 1 1 1 0 0 0 0 0 1 0 1 1 0 1 1 1\n",
      " 1 1 1 1 0 1 1 1 1 0 1 1 0 1 1 0 1 1 0 1 1 1 1 1 0 1]\n"
     ]
    }
   ],
   "source": [
    "# check the accuracy\n",
    "print(model.score(x, y))\n",
    "\n",
    "# predict probability\n",
    "print (\"Predict probability : \", model.predict_proba(x)[:, 1])\n",
    "# predict outcome (y=1 or y=0)\n",
    "print (\"Predicted class : \", model.predict(x))"
   ]
  },
  {
   "cell_type": "code",
   "execution_count": 12,
   "metadata": {},
   "outputs": [
    {
     "name": "stdout",
     "output_type": "stream",
     "text": [
      "Train accuracy :  0.89\n",
      "Train confusion matrix \n",
      " [[34  6]\n",
      " [ 5 55]]\n",
      "Classification report : \n",
      "               precision    recall  f1-score   support\n",
      "\n",
      "           0       0.87      0.85      0.86        40\n",
      "           1       0.90      0.92      0.91        60\n",
      "\n",
      "    accuracy                           0.89       100\n",
      "   macro avg       0.89      0.88      0.88       100\n",
      "weighted avg       0.89      0.89      0.89       100\n",
      "\n",
      "F1 score : \n",
      " [0.86075949 0.90909091]\n"
     ]
    }
   ],
   "source": [
    "# generate evaluation metrics\n",
    "print(\"Train accuracy : \", metrics.accuracy_score (y,model.predict(x)))\n",
    "print (\"Train confusion matrix \\n\",metrics.confusion_matrix(y,model.predict(x)))\n",
    "print (\"Classification report : \\n\", metrics.classification_report(y,model.predict (x)))\n",
    "print('F1 score : \\n',metrics.f1_score(y, model.predict (x), average=None))"
   ]
  },
  {
   "cell_type": "code",
   "execution_count": 13,
   "metadata": {},
   "outputs": [
    {
     "name": "stdout",
     "output_type": "stream",
     "text": [
      "[1]\n"
     ]
    }
   ],
   "source": [
    "print(model.predict([[50, 75]]))"
   ]
  },
  {
   "cell_type": "markdown",
   "metadata": {},
   "source": [
    "Ou seja, um aluno com 50 no primeiro e 75 no segundo teste, seria aprovado"
   ]
  },
  {
   "cell_type": "code",
   "execution_count": 14,
   "metadata": {},
   "outputs": [],
   "source": [
    "import pickle\n",
    "pickle.dump(model,open('model.pkl','wb'))"
   ]
  },
  {
   "cell_type": "code",
   "execution_count": 1,
   "metadata": {},
   "outputs": [],
   "source": [
    "a = [[0.9940824]]"
   ]
  },
  {
   "cell_type": "code",
   "execution_count": 6,
   "metadata": {},
   "outputs": [
    {
     "name": "stdout",
     "output_type": "stream",
     "text": [
      "<class 'list'>\n"
     ]
    }
   ],
   "source": [
    "print(type(a[0]))"
   ]
  },
  {
   "cell_type": "code",
   "execution_count": 10,
   "metadata": {},
   "outputs": [
    {
     "name": "stdout",
     "output_type": "stream",
     "text": [
      "1\n"
     ]
    }
   ],
   "source": [
    "print(round(a[0][0]))"
   ]
  },
  {
   "cell_type": "code",
   "execution_count": null,
   "metadata": {},
   "outputs": [],
   "source": []
  },
  {
   "cell_type": "code",
   "execution_count": null,
   "metadata": {},
   "outputs": [],
   "source": []
  }
 ],
 "metadata": {
  "kernelspec": {
   "display_name": "Python 3 (ipykernel)",
   "language": "python",
   "name": "python3"
  },
  "language_info": {
   "codemirror_mode": {
    "name": "ipython",
    "version": 3
   },
   "file_extension": ".py",
   "mimetype": "text/x-python",
   "name": "python",
   "nbconvert_exporter": "python",
   "pygments_lexer": "ipython3",
   "version": "3.9.13"
  },
  "vscode": {
   "interpreter": {
    "hash": "afd6c12a282e4355c312c24f36bd270a7cbcdee620df5f4ce4249cfbe3c74176"
   }
  }
 },
 "nbformat": 4,
 "nbformat_minor": 1
}
